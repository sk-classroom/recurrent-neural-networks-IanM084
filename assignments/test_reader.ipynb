{
 "cells": [
  {
   "cell_type": "code",
   "execution_count": 4,
   "metadata": {},
   "outputs": [],
   "source": [
    "import unittest\n",
    "import numpy as np\n",
    "import sys\n",
    "import pandas as pd\n",
    "\n",
    "from scipy import stats\n",
    "\n",
    "\n",
    "class TestRNN(unittest.TestCase):\n",
    "\n",
    "    def setUp(self):\n",
    "        self.root = \"..\"\n",
    "\n",
    "    def test_rnn_loss(self):\n",
    "\n",
    "        df = pd.read_csv(f\"{self.root}/assignments/rnn_loss_values.csv\")\n",
    "        loss_values = df[\"0\"].values.reshape(-1)\n",
    "        # Check if the loss is decreasing\n",
    "        rho = stats.pearsonr(loss_values, np.arange(len(loss_values)))[0]\n",
    "        self.assertTrue(rho < 0)\n",
    "\n",
    "    def test_rnn_prediction(self):\n",
    "        df = pd.read_csv(f\"{self.root}/assignments/rnn_test_predictions.csv\")\n",
    "        predictions = df[\"0\"].values.reshape(-1)\n",
    "        y = pd.read_csv(f\"{self.root}/data/test.csv\")[\"country\"].values\n",
    "        acc = np.mean(predictions == y)\n",
    "        self.assertTrue(acc > 1.0 / 52)\n",
    "\n",
    "\n",
    "class TestLSTM(unittest.TestCase):\n",
    "\n",
    "    def setUp(self):\n",
    "        self.root = \"..\"\n",
    "\n",
    "    def test_lstm_loss(self):\n",
    "\n",
    "        df = pd.read_csv(f\"{self.root}/assignments/lstm_loss_values.csv\")\n",
    "        loss_values = df[\"0\"].values.reshape(-1)\n",
    "        # Check if the loss is decreasing\n",
    "        rho = stats.pearsonr(loss_values, np.arange(len(loss_values)))[0]\n",
    "        self.assertTrue(rho < 0)\n",
    "\n",
    "    def test_lstm_prediction(self):\n",
    "        with open(\n",
    "            f\"{self.root}/assignments/lstm_test_predictions.txt\", \"r\", encoding=\"utf8\"\n",
    "        ) as fp:\n",
    "            predictions = fp.read()\n",
    "        predictions = list(predictions)\n",
    "\n",
    "        with open(\n",
    "            f\"{self.root}/data/the-foundation-test.txt\", \"r\", encoding=\"utf8\"\n",
    "        ) as fp:\n",
    "            eval_text = fp.read()\n",
    "\n",
    "        eval_text = eval_text.replace(\"\\n\", \" \")\n",
    "        eval_text = eval_text.replace(\"\\r\", \" \")\n",
    "\n",
    "        _, targets = seq2input_target(eval_text, window_length=30)\n",
    "\n",
    "        acc = np.mean(predictions == np.array(targets))\n",
    "        rand_acc = 0.0120\n",
    "\n",
    "        self.assertTrue(acc > rand_acc)\n",
    "\n",
    "\n",
    "def seq2input_target(seq, window_length):\n",
    "    input_text = [\n",
    "        list(seq[i : i + window_length]) for i in range(len(seq) - window_length)\n",
    "    ]\n",
    "    target_text = list(seq[window_length:])\n",
    "    return input_text, target_text"
   ]
  },
  {
   "cell_type": "code",
   "execution_count": 5,
   "metadata": {},
   "outputs": [],
   "source": [
    "tester = TestRNN()\n",
    "tester.setUp()\n",
    "tester.test_rnn_loss()\n",
    "tester.test_rnn_prediction()"
   ]
  },
  {
   "cell_type": "code",
   "execution_count": 7,
   "metadata": {},
   "outputs": [],
   "source": [
    "tester = TestLSTM()\n",
    "tester.setUp()\n",
    "tester.test_lstm_loss()\n",
    "tester.test_lstm_prediction()"
   ]
  }
 ],
 "metadata": {
  "kernelspec": {
   "display_name": "Python 3",
   "language": "python",
   "name": "python3"
  },
  "language_info": {
   "codemirror_mode": {
    "name": "ipython",
    "version": 3
   },
   "file_extension": ".py",
   "mimetype": "text/x-python",
   "name": "python",
   "nbconvert_exporter": "python",
   "pygments_lexer": "ipython3",
   "version": "3.10.13"
  }
 },
 "nbformat": 4,
 "nbformat_minor": 2
}
