{
 "cells": [
  {
   "cell_type": "markdown",
   "metadata": {},
   "source": [
    "[![Open In Colab](https://colab.research.google.com/assets/colab-badge.svg)](http://colab.research.google.com/github/sk-classroom/asc-recurrent-neural-nets/blob/main/assignments/assignment_02.ipynb)\n",
    "\n",
    "We will be creating a character-level LSTM trained on The Foundation by Isaac Asimov.  \n",
    "\n",
    "This character-level LSTM will read the book at character levels and be trained to predict the next character. By repeating the next character predictions, the LSTM will generate text in style similar to Isaac Asimov (if you train well).  \n",
    "\n",
    "# Data \n",
    "\n",
    "We will use the text in [archive.org](https://archive.org/stream/AsimovTheFoundation/Asimov_the_foundation_djvu.txt). The text is preprocessed and saved in \"data/the-foundation.txt\".  \n"
   ]
  },
  {
   "cell_type": "code",
   "execution_count": 1,
   "metadata": {},
   "outputs": [],
   "source": [
    "import numpy as np\n",
    "import re\n",
    "\n",
    "root = \"https://raw.githubusercontent.com/sk-classroom/asc-recurrent-neural-nets/main\"\n",
    "\n",
    "# %% Extract the main content of the book\n",
    "## Reading and processing text\n",
    "with open(\"../data/the-foundation.txt\", \"r\", encoding=\"utf8\") as fp:\n",
    "    full_text_data = fp.read()\n",
    "\n",
    "# Remove linebreaks from the text\n",
    "full_text_data = full_text_data.replace(\"\\n\", \" \")\n",
    "full_text_data = full_text_data.replace(\"\\r\", \" \")\n",
    "full_text_data = full_text_data.replace(\"\\\\'\", \"'\")\n",
    "\n",
    "# Replace multiple spaces with a single space\n",
    "full_text_data = re.sub(r\"\\s+\", \" \", full_text_data)"
   ]
  },
  {
   "cell_type": "markdown",
   "metadata": {},
   "source": [
    "We will extract the content of the book, and convert the text into a sequence of integers. \n"
   ]
  },
  {
   "cell_type": "code",
   "execution_count": 2,
   "metadata": {},
   "outputs": [
    {
     "name": "stdout",
     "output_type": "stream",
     "text": [
      "Total Length: 1215346\n",
      "Unique Characters: 83\n"
     ]
    }
   ],
   "source": [
    "start_indx = full_text_data.find(\"THE PSYCHOHISTORIANS\")\n",
    "end_indx = len(full_text_data)\n",
    "\n",
    "full_text_data = full_text_data[start_indx:end_indx]\n",
    "char_set = set(full_text_data)\n",
    "print(\"Total Length:\", len(full_text_data))\n",
    "print(\"Unique Characters:\", len(char_set))\n",
    "\n",
    "# Tokenize the text into integers reresenting characters\n",
    "## Creating a lookup table\n",
    "chars = sorted(char_set)\n",
    "char_to_int = {ch: i for i, ch in enumerate(chars)}\n",
    "int_to_char = np.array(chars)"
   ]
  },
  {
   "cell_type": "markdown",
   "metadata": {},
   "source": [
    "Since the book is too long, we will only use the first 100000 characters for the training. \n"
   ]
  },
  {
   "cell_type": "code",
   "execution_count": 3,
   "metadata": {},
   "outputs": [],
   "source": [
    "text_data = full_text_data[:100000]"
   ]
  },
  {
   "cell_type": "markdown",
   "metadata": {},
   "source": [
    "For convenience, let's convert the text into an integer sequence:\n"
   ]
  },
  {
   "cell_type": "code",
   "execution_count": 4,
   "metadata": {},
   "outputs": [],
   "source": [
    "text_as_int = np.array(list(map(lambda x: char_to_int[x], text_data)), dtype=np.int32)"
   ]
  },
  {
   "cell_type": "code",
   "execution_count": 5,
   "metadata": {},
   "outputs": [
    {
     "name": "stdout",
     "output_type": "stream",
     "text": [
      "Text: THE PSYCHOHISTORIANS \n",
      "Encoded: [45 33 30  0 41 44 50 28 33 40 33 34 44 45 40 43 34 26 39 44]\n"
     ]
    }
   ],
   "source": [
    "# The text_as_int contains the encoded values for all the characters in the text. Let's take a look at how part of our text is encoded:\n",
    "print(\"Text:\", text_data[:20], \"\\nEncoded:\", text_as_int[:20])"
   ]
  },
  {
   "cell_type": "markdown",
   "metadata": {},
   "source": [
    "## Create the dataset for training the Long-term short memory \n",
    "\n",
    "In this exercise, we will feed a fixed number of characters into the LSTM to predict the next character. While it is possible to feed all previous characters, it is not practical due to the memory and computation time. \n",
    "\n",
    "More concretely, for example, given text \n"
   ]
  },
  {
   "cell_type": "code",
   "execution_count": 6,
   "metadata": {},
   "outputs": [],
   "source": [
    "example_text = \"Fox jumps over the lazy dog\""
   ]
  },
  {
   "cell_type": "markdown",
   "metadata": {},
   "source": [
    "by using five previous characters, we predict the next character, namely, \n",
    "\n",
    "| Input | Target | \n",
    "|-------|--------|\n",
    "| 'F', 'o', 'x', ' ', 'j' | 'u' |\n",
    "| 'o', 'x', ' ', 'j', 'u' | 'm' |\n",
    "| 'x', ' ', 'j', 'u', 'm' | 'p' |\n",
    "| ' ', 'j', 'u', 'm', 'p' | 's' |\n",
    "| 'j', 'u', 'm', 'p', 's' | ' ' |\n",
    "| 'u', 'm', 'p', 's', ' ' | 'o' |\n",
    "| 'm', 'p', 's', ' ', 'o' | 'v' |\n",
    "\n",
    "The input and target data can be created by striding the text by a fixed number of characters. \n"
   ]
  },
  {
   "cell_type": "code",
   "execution_count": 7,
   "metadata": {},
   "outputs": [
    {
     "name": "stdout",
     "output_type": "stream",
     "text": [
      "Original alphabet sequence: ['F', 'o', 'x', ' ', 'j', 'u', 'm', 'p', 's', ' ', 'o', 'v', 'e', 'r', ' ', 't', 'h', 'e', ' ', 'l', 'a', 'z', 'y', ' ', 'd', 'o', 'g']\n",
      "Input: [['F', 'o', 'x', ' ', 'j'], ['o', 'x', ' ', 'j', 'u'], ['x', ' ', 'j', 'u', 'm'], [' ', 'j', 'u', 'm', 'p'], ['j', 'u', 'm', 'p', 's']]\n",
      "Target: ['u', 'm', 'p', 's', ' ']\n"
     ]
    }
   ],
   "source": [
    "import pandas as pd\n",
    "\n",
    "\n",
    "def seq2input_target(seq, window_length):\n",
    "    input_text = [\n",
    "        list(seq[i : i + window_length]) for i in range(len(seq) - window_length)\n",
    "    ]\n",
    "    target_text = list(seq[window_length:])\n",
    "    return input_text, target_text\n",
    "\n",
    "\n",
    "chart_seq = list(example_text)\n",
    "\n",
    "print(\"Original alphabet sequence:\", chart_seq)\n",
    "\n",
    "inputs, targets = seq2input_target(chart_seq, 5)\n",
    "\n",
    "print(\"Input:\", inputs[:5])\n",
    "print(\"Target:\", targets[:5])"
   ]
  },
  {
   "cell_type": "markdown",
   "metadata": {},
   "source": [
    "It is more efficient to use the integer representation of the text to create the input and target data. \n"
   ]
  },
  {
   "cell_type": "code",
   "execution_count": 8,
   "metadata": {},
   "outputs": [
    {
     "name": "stdout",
     "output_type": "stream",
     "text": [
      "Input: [[31, 67, 76, 0, 62], [67, 76, 0, 62, 73], [76, 0, 62, 73, 65], [0, 62, 73, 65, 68], [62, 73, 65, 68, 71]]\n",
      "Target: [73, 65, 68, 71, 0]\n"
     ]
    }
   ],
   "source": [
    "example_text_as_int = [char_to_int[ch] for ch in example_text]\n",
    "inputs, targets = seq2input_target(example_text_as_int, 5)\n",
    "\n",
    "print(\"Input:\", inputs[:5])\n",
    "print(\"Target:\", targets[:5])"
   ]
  },
  {
   "cell_type": "markdown",
   "metadata": {},
   "source": [
    "By using the seq2input_target function, define a torch dataset and data loader. In this exercise, we will use the length of 30 characters for the input. Set the batch size to 32~128. \n"
   ]
  },
  {
   "cell_type": "code",
   "execution_count": 9,
   "metadata": {},
   "outputs": [],
   "source": [
    "import torch\n",
    "\n",
    "\n",
    "# TODO: Create a dataset for the LSTM model\n",
    "class LSTMDataset(torch.utils.data.Dataset):\n",
    "    def __init__(self, seq_data, window_length):\n",
    "        \"\"\"\n",
    "        Args:\n",
    "\n",
    "        seq_data: The sequence data.\n",
    "            length: The length of the sequence to be used for the input and target\n",
    "        window_length: int\n",
    "        \"\"\"\n",
    "        self.window_length = window_length\n",
    "        self.seq_data = seq_data\n",
    "        self.inputs , self.targets = seq2input_target(seq_data, window_length)\n",
    "        self.inputs = torch.tensor(self.inputs, dtype = torch.long)\n",
    "        self.targets = torch.tensor(self.targets, dtype = torch.long)\n",
    "\n",
    "    def __len__(self):\n",
    "        return len(self.inputs)\n",
    "\n",
    "    def __getitem__(self, idx):\n",
    "        return self.inputs[idx] , self.targets[idx]\n",
    "\n",
    "\n",
    "dataset = LSTMDataset(text_as_int, window_length=15)\n",
    "dataloader = torch.utils.data.DataLoader(\n",
    "    dataset, batch_size=512, shuffle=False, drop_last=True\n",
    ")"
   ]
  },
  {
   "cell_type": "markdown",
   "metadata": {},
   "source": [
    "# Let's define the LSTM model. \n",
    "* Define the LSTM by using torch.nn. Module\n",
    "* In addition to the components of the LSTM, add a linear layer that converts the hidden state to the output of size equal to the number of unique characters.\n"
   ]
  },
  {
   "cell_type": "code",
   "execution_count": 10,
   "metadata": {},
   "outputs": [],
   "source": [
    "import torch\n",
    "\n",
    "\n",
    "# TODO: Define the LSTM model\n",
    "class LSTM(torch.nn.Module):\n",
    "\n",
    "    def __init__(self, input_size, hidden_size, output_size):\n",
    "        super(LSTM, self).__init__()\n",
    "        self.hidden_size = hidden_size\n",
    "        self.input_size = input_size\n",
    "        self.output_size = output_size\n",
    "\n",
    "        # TODO: Define the gates\n",
    "        self.lin_gate_cell = torch.nn.Linear(input_size + hidden_size, hidden_size)\n",
    "        self.lin_gate_input = torch.nn.Linear(input_size + hidden_size, hidden_size)\n",
    "        self.lin_gate_hidden = torch.nn.Linear(input_size + hidden_size, hidden_size)\n",
    "\n",
    "        # TODO: Define the linear transformations between the cell states, inputs, and hidden states\n",
    "        self.lin_input_to_cell = torch.nn.Linear(input_size + hidden_size, hidden_size)\n",
    "        self.lin_cell_to_hidden = torch.nn.Linear(hidden_size, hidden_size)\n",
    "\n",
    "        # TODO: Define the linear layer that maps the hidden state to the output of size output_size\n",
    "        self.lin_hidden_to_output = torch.nn.Linear(hidden_size , output_size)\n",
    "\n",
    "        # TODO: Define the activation functions, Tanh and Sigmoid\n",
    "        self.tanh = torch.nn.Tanh()\n",
    "        self.sigmoid = torch.nn.Sigmoid()\n",
    "        \n",
    "    def forward(self, input, hidden, cell):\n",
    "        # TODO: Define the forward pass\n",
    "        cell = cell * self.sigmoid(self.lin_gate_cell(torch.cat((input,hidden),1)))\n",
    "        cell_add = self.tanh(self.lin_input_to_cell(torch.cat((input,hidden),1)))\n",
    "        cell_add = cell_add *  self.sigmoid(self.lin_gate_input(torch.cat((input,hidden),1)))\n",
    "        cell = cell + cell_add\n",
    "        next_hidden = self.tanh(self.lin_cell_to_hidden(cell))\n",
    "        next_hidden = next_hidden * self.sigmoid(self.lin_gate_hidden(torch.cat((input,hidden),1)))\n",
    "\n",
    "        output = self.lin_hidden_to_output(next_hidden)\n",
    "\n",
    "        return output, next_hidden, cell\n",
    "\n",
    "\n",
    "lstm = LSTM(input_size=len(char_set), hidden_size=128, output_size=len(char_set))"
   ]
  },
  {
   "cell_type": "markdown",
   "metadata": {},
   "source": [
    "# Train the LSTM!\n"
   ]
  },
  {
   "cell_type": "markdown",
   "metadata": {},
   "source": [
    "## Preparation\n",
    "\n",
    "Define the loss and the optimizer.\n"
   ]
  },
  {
   "cell_type": "code",
   "execution_count": 11,
   "metadata": {},
   "outputs": [],
   "source": [
    "criterion = torch.nn.CrossEntropyLoss()\n",
    "optimizer = torch.optim.Adam(lstm.parameters(), lr=5e-3)"
   ]
  },
  {
   "cell_type": "markdown",
   "metadata": {},
   "source": [
    "Define a utility function to run the LSTM model on the sequences.\n"
   ]
  },
  {
   "cell_type": "code",
   "execution_count": 12,
   "metadata": {},
   "outputs": [
    {
     "data": {
      "text/plain": [
       "tensor([[ 0.0320,  0.0598,  0.0502,  0.0716,  0.0569,  0.0223,  0.0545, -0.0106,\n",
       "         -0.0808, -0.0556, -0.1037, -0.0485,  0.0028,  0.0318, -0.0464, -0.0596,\n",
       "          0.0514,  0.0404, -0.0415, -0.0350, -0.0252, -0.0431,  0.0689,  0.0268,\n",
       "         -0.0794, -0.0106, -0.0639, -0.0757,  0.0792,  0.0343, -0.0383, -0.0077,\n",
       "          0.0589, -0.0515,  0.0296,  0.0190, -0.0388, -0.0819, -0.0082,  0.0523,\n",
       "         -0.0358,  0.0352, -0.0344,  0.0539,  0.0296, -0.0294,  0.0764, -0.0658,\n",
       "          0.0714,  0.0341, -0.0346,  0.0710,  0.0568, -0.0570,  0.0792, -0.0164,\n",
       "          0.0977, -0.0680,  0.0712,  0.0563, -0.0714,  0.0558, -0.0235,  0.0534,\n",
       "         -0.0379, -0.0722,  0.0788, -0.0153, -0.1098, -0.0752, -0.0296,  0.0547,\n",
       "         -0.0045, -0.0565,  0.0147,  0.0481,  0.0527, -0.0152,  0.0189, -0.0291,\n",
       "          0.0778, -0.0022, -0.0912],\n",
       "        [ 0.0295,  0.0666,  0.0517,  0.0712,  0.0530,  0.0213,  0.0517, -0.0038,\n",
       "         -0.0764, -0.0584, -0.1052, -0.0454, -0.0004,  0.0202, -0.0509, -0.0583,\n",
       "          0.0458,  0.0375, -0.0406, -0.0411, -0.0273, -0.0432,  0.0678,  0.0298,\n",
       "         -0.0770, -0.0077, -0.0615, -0.0792,  0.0859,  0.0347, -0.0358, -0.0052,\n",
       "          0.0557, -0.0545,  0.0250,  0.0157, -0.0453, -0.0852, -0.0132,  0.0439,\n",
       "         -0.0335,  0.0341, -0.0322,  0.0496,  0.0313, -0.0251,  0.0720, -0.0615,\n",
       "          0.0677,  0.0287, -0.0345,  0.0743,  0.0600, -0.0472,  0.0815, -0.0181,\n",
       "          0.0976, -0.0698,  0.0722,  0.0559, -0.0642,  0.0540, -0.0291,  0.0478,\n",
       "         -0.0366, -0.0656,  0.0758, -0.0077, -0.1013, -0.0788, -0.0282,  0.0574,\n",
       "         -0.0023, -0.0483,  0.0260,  0.0518,  0.0496, -0.0121,  0.0136, -0.0360,\n",
       "          0.0798, -0.0021, -0.0879],\n",
       "        [ 0.0338,  0.0712,  0.0464,  0.0777,  0.0454,  0.0241,  0.0559, -0.0092,\n",
       "         -0.0750, -0.0574, -0.1018, -0.0464, -0.0014,  0.0201, -0.0480, -0.0555,\n",
       "          0.0516,  0.0327, -0.0409, -0.0307, -0.0300, -0.0443,  0.0681,  0.0354,\n",
       "         -0.0838, -0.0114, -0.0641, -0.0782,  0.0885,  0.0406, -0.0324, -0.0065,\n",
       "          0.0576, -0.0482,  0.0302,  0.0188, -0.0417, -0.0843, -0.0101,  0.0468,\n",
       "         -0.0370,  0.0352, -0.0274,  0.0528,  0.0315, -0.0325,  0.0693, -0.0620,\n",
       "          0.0697,  0.0361, -0.0346,  0.0737,  0.0637, -0.0527,  0.0798, -0.0142,\n",
       "          0.1010, -0.0764,  0.0733,  0.0602, -0.0663,  0.0593, -0.0313,  0.0566,\n",
       "         -0.0346, -0.0710,  0.0778, -0.0145, -0.1021, -0.0753, -0.0282,  0.0518,\n",
       "         -0.0066, -0.0484,  0.0241,  0.0510,  0.0548, -0.0131,  0.0126, -0.0325,\n",
       "          0.0786, -0.0078, -0.0893]], grad_fn=<AddmmBackward0>)"
      ]
     },
     "execution_count": 12,
     "metadata": {},
     "output_type": "execute_result"
    }
   ],
   "source": [
    "# TODO: Define this function\n",
    "def run_ltsm(seqs, lstm, hidden_size):\n",
    "    \"\"\"Run the LSTM model on the sequences\n",
    "\n",
    "    Args:\n",
    "    seqs: The input sequences\n",
    "    lstm: The LSTM model\n",
    "    hidden_size: The size of the hidden states\n",
    "\n",
    "    Returns:\n",
    "    output: The output of the LSTM for the last character in the sequence\n",
    "    \"\"\"\n",
    "    n_seqs = seqs.shape[0]\n",
    "    seq_length = seqs.shape[1]\n",
    "\n",
    "    # TODO: Initialize the hidden and cell states\n",
    "    # Hint:\n",
    "    # - Use torch.zeros to initialize the hidden and cell states\n",
    "    hidden = torch.zeros(n_seqs, hidden_size, dtype = torch.float32)\n",
    "    cell  = torch.zeros(n_seqs, hidden_size, dtype = torch.float32)\n",
    "\n",
    "    # TODO: Run the LSTM model on the sequences\n",
    "    # Hint:\n",
    "    # - Use torch.nn.functional.one_hot to convert the input sequences to one-hot vectors\n",
    "    # - Then, feed the one-hot vectors to the LSTM model\n",
    "    for i in range(seq_length):\n",
    "        vecs = torch.nn.functional.one_hot(\n",
    "            seqs[:,i] , num_classes = len(char_set)\n",
    "        ).float()\n",
    "    output, hidden, cell = lstm.forward(vecs, hidden, cell)\n",
    "    return output\n",
    "\n",
    "\n",
    "example_text_as_int = [char_to_int[ch] for ch in example_text]\n",
    "inputs, targets = seq2input_target(example_text_as_int, 5)\n",
    "\n",
    "run_ltsm(torch.tensor(inputs[:3]), lstm, 128)"
   ]
  },
  {
   "cell_type": "markdown",
   "metadata": {},
   "source": [
    "Let's train the LSTM model.\n"
   ]
  },
  {
   "cell_type": "code",
   "execution_count": 13,
   "metadata": {},
   "outputs": [
    {
     "name": "stderr",
     "output_type": "stream",
     "text": [
      "  0%|          | 0/195 [00:00<?, ?it/s]"
     ]
    },
    {
     "name": "stderr",
     "output_type": "stream",
     "text": [
      "100%|██████████| 195/195 [00:04<00:00, 45.47it/s]\n"
     ]
    }
   ],
   "source": [
    "from tqdm import tqdm\n",
    "\n",
    "n_epochs = 1\n",
    "loss_values = []\n",
    "\n",
    "lstm.train()\n",
    "# TODO: Train the LSTM model\n",
    "for epoch in range(n_epochs):\n",
    "    for inputs, targets in tqdm(dataloader):\n",
    "        optimizer.zero_grad()\n",
    "        output = run_ltsm(inputs, lstm, 128)\n",
    "        loss = criterion(output, targets)\n",
    "        loss.backward()\n",
    "        optimizer.step()\n",
    "        loss_values.append(loss.item()/inputs.size()[0])\n",
    "        \n"
   ]
  },
  {
   "cell_type": "code",
   "execution_count": 14,
   "metadata": {},
   "outputs": [
    {
     "data": {
      "text/plain": [
       "Text(0, 0.5, 'Loss')"
      ]
     },
     "execution_count": 14,
     "metadata": {},
     "output_type": "execute_result"
    },
    {
     "data": {
      "image/png": "[encoded data removed]",
      "text/plain": [
       "<Figure size 640x480 with 1 Axes>"
      ]
     },
     "metadata": {},
     "output_type": "display_data"
    }
   ],
   "source": [
    "import matplotlib.pyplot as plt\n",
    "\n",
    "plt.plot(loss_values)\n",
    "plt.xlabel(\"Batch\")\n",
    "plt.ylabel(\"Loss\")"
   ]
  },
  {
   "cell_type": "markdown",
   "metadata": {},
   "source": [
    "# Generate the text by using the trained LSTM\n",
    "\n",
    "We will generate the text by using the trained LSTM. \n",
    "\n",
    "1. We will feed the first 30 characters into the LSTM.\n",
    "2. Use the output to predict the next character. \n",
    "3. Add the predicted character to the input and remove the first character. \n",
    "4. Repeat this process to generate the text. \n",
    "\n",
    "A word is selected randomly based on the probability of the next character calculated by the softmax function as follows:\n",
    "$$\n",
    "P(w | w_{t-1}, w_{t-2}, \\ldots, w_1) = \\frac{\\exp(\\text{LSTM}(w)/T)}{\\sum_{w'} \\exp(\\text{LSTM}(w')/T)}, \n",
    "$$\n",
    "where $T>0$ represents the temperature parameter that controls the randomness of the output. A large temperature value results in a more random output, while a small temperature value results in a more deterministic output. \n"
   ]
  },
  {
   "cell_type": "code",
   "execution_count": 15,
   "metadata": {},
   "outputs": [
    {
     "data": {
      "text/plain": [
       "'My name t t te t the t t t s t t t t t t t t t ahe the t t tit t te t t t ahel at t t t t t owe at t t t t'"
      ]
     },
     "execution_count": 15,
     "metadata": {},
     "output_type": "execute_result"
    }
   ],
   "source": [
    "def generate_text(\n",
    "    lstm, start_text, length, window_length, char_to_int, int_to_char, temp\n",
    "):\n",
    "    \"\"\"Generate text using the LSTM model\n",
    "\n",
    "    Args:\n",
    "    lstm: The LSTM model\n",
    "    start_text: The starting text\n",
    "    length: The length of the generated text\n",
    "    window_length: The length of the input sequence\n",
    "    char_to_int: The character to integer mapping\n",
    "    int_to_char: The integer to character mapping\n",
    "\n",
    "    Returns:\n",
    "    generated_text: The generated text\n",
    "    \"\"\"\n",
    "    start_text_as_int = [char_to_int[ch] for ch in start_text]\n",
    "    generated_text = start_text_as_int\n",
    "\n",
    "    for i in range(length):\n",
    "        input_text = generated_text[-np.minimum(window_length, len(generated_text)) :]\n",
    "        input_text = torch.tensor(input_text).view(1, -1)\n",
    "        output = run_ltsm(input_text, lstm, 128)\n",
    "        output = torch.softmax(output / temp, dim=1).multinomial(num_samples=1)\n",
    "        generated_text.append(output.item())\n",
    "\n",
    "    generated_text = [int_to_char[i] for i in generated_text]\n",
    "    return \"\".join(generated_text)\n",
    "\n",
    "\n",
    "generate_text(lstm, \"My nam\", 100, 30, char_to_int, int_to_char, temp=.3)"
   ]
  },
  {
   "cell_type": "markdown",
   "metadata": {},
   "source": [
    "The generated text would not be readable. Still, you might see some unique words used in the book. Such as \"Seldon\", \"Second Foundation\".\n",
    "\n",
    "Interested students are encouraged to expand the training data by changing the following line in the code at the third cell. \n",
    "\n",
    "```python \n",
    "#text_data = full_text_data[:10000] # old\n",
    "text_data = full_text_data[:1000000] # new \n",
    "#text_data = full_text_data[:10000000] # (if you have time) \n",
    "```\n"
   ]
  },
  {
   "cell_type": "markdown",
   "metadata": {},
   "source": [
    "If the learning is successful, the trained LTCM should be able to predict the next character better than a random prediction. \n"
   ]
  },
  {
   "cell_type": "code",
   "execution_count": 16,
   "metadata": {},
   "outputs": [
    {
     "data": {
      "text/plain": [
       "'Two Men and the Elders  The Elders of this particular region of Rossem were not exactly what one might have expected. They were not a mere extrapolation of the peasantry; older, more authoritative, less friendly.  Not at all.  The dignity that had marked them at first meeting had grown in impression till it had reached the mark of being their predominant characteristic.  They sat about their oval table like so many grave and slow-moving thinkers. Most were a trifle past their physical prime, though the few who possessed beards wore them short and neatly arranged. Still, enough appeared younger than forty to make it quite obvious that \"Elders\" was a term of respect rather than entirely a literal description of age.  The two from outer space were at the head of the table and in the solemn silence that accompanied a rather frugal meal that seemed ceremonious rather than nourishing, absorbed the new, contrasting atmosphere.  After the meal and after one or two respectful remarks - too short and simple to be called speeches - had been made by those of the Elders apparently held most in esteem, an informality forced itself upon the assembly.  It was as if the dignity of greeting foreign personages had finally given way to the amiable rustic qualities of curiosity and friendliness.  They crowded around the two strangers and the flood of questions came.  They asked if it were difficult to handle a spaceship, how many men were required for the job, if better motors could be made for their ground-cars, if it was true that it rarely snowed on other worlds as was said to be the case with Tazenda, how many people lived on their world, if it was as large as Tazenda, if it was far away, how their clothes were woven and what gave them the metallic shimmer, why they did not wear furs, if they shaved every day, what sort of stone that was in Pritcher\\'s ring - The list stretched out.  And almost always the questions were addressed to Pritcher as though, as the elder, they automatically invested him with the greater authority. Pritcher found himself forced to answer at greater and greater length. It was like an immersion in a crowd of children. Their questions were those of utter and disarming wonder. Their eagerness to know was completely irresistible and would not be denied.  Pritcher explained that spaceships were not difficult to handle and that crews varied with the size, from one to many, that the motors of their ground-cars were unknown in detail to him but could doubtless be improved, that the climates of worlds varied almost infinitely, that many hundreds of millions lived on his world but that it was far smaller and more insignificant than the great empire of Tazenda, that their clothes were woven of silicone plastics in which metallic luster was artificially produced by proper orientation of the surface molecules, and that they could be artificially heated so that furs were unnecessary, that they shaved every day, that the stone in his ring was an amethyst. The list stretched out. He found himself thawing to these    naive provincials against his will.  And always as he answered there was a rapid chatter among the Elders, as though they debated the information gained. It was difficult to follow these inner discussions of theirs for they lapsed into their own accented version of the universal Galactic language that, through long separation from the currents of living speech, had become archaic.  Almost, one might say, their curt comments among themselves hovered on the edge of understanding, but just managed to elude the clutching tendrils of comprehension.  Until finally Channis interrupted to say, \"Good sirs, you must answer us for a while, for we are strangers and would be very much interested to know all we can of Tazenda.\"  And what happened then was that a great silence fell and each of the hitherto voluble Elders grew silent. Their hands, which had been moving in such rapid and delicate accompaniment to their words as though to give them greater scope and varied shades of meaning, fell suddenly limp. They stared furtively at one another, apparently quite willing each to let the other have all the floor.  Pritcher interposed quickly, \"My companion asks this in friendliness, for the fame of Tazenda fills the Galaxy and we, of course, shall inform the governor of the loyalty and love of the Elders of Rossem.\"  No sigh of relief was heard but faces brightened. An Elder stroked his beard with thumb and forefinger, straightening its slight curl with a gentle pressure, and said: \"We are faithful servants of the Lords of Tazenda.\"  Pritcher\\'s annoyance at Channis\\' bald question subsided. It was apparent, at least, that the age that he had felt creeping over him of late had not yet deprived him of his own capacity for making smooth the blunders of others.  He continued: \"We do not know, in our far part of the universe, much of the past history of the Lords of Tazenda. We presume they have ruled benevolently here for a long time.\"  The same Elder who spoke before, answered. In a soft, automatic way he had become spokesman. He said: \"Not the grandfather of the oldest can recall a time in which the Lords were absent.\"  \"It has been a time of peace?\"  \"It has been a time of peace!\" He hesitated. \"The governor is a strong and powerful Lord who would not hesitate to punish traitors. None of us are traitors, of course.\"  \"He has punished some in the past, I imagine, as they deserve.\"  Again hesitation, \"None here have ever been traitors, or our fathers or our fathers\\' fathers. But on other worlds, there have been such, and death followed for them quickly. It is not good to think of for we are humble men who are poor farmers and not concerned with matters of politics.\"  The anxiety in his voice, the universal concern in the eyes of all of them was obvious.    Pritcher said smoothly: \"Could you inform us as to how we can arrange an audience with your governor.\"  And instantly an element of sudden bewilderment entered the situation.  For after a long moment, the elder said: \"Why, did you not know? The governor will be here tomorrow. He has expected you. It has been a great honor for us. We ... we hope earnestly that you will report to him satisfactorily as to our loyalty to him.\"  Pritcher\\'s smile scarcely twitched. \"Expected us?\"  The Elder looked wonderingly from one to the other. \"Why ... it is now a week since we have been waiting for you.\"  Their quarters were undoubtedly luxurious for the world. Pritcher had lived in worse. Channis showed nothing but indifference to externals.  But there was an element of tension between them of a different nature than hitherto. Pritcher, felt the time approaching for a definite decision and yet there was still the desirability of additional waiting. To see the governor first would be to increase the gamble to dangerous dimensions and yet to win that gamble might multi-double the winnings. He felt a surge of anger at the slight crease between Channis\\' eyebrows, the delicate uncertainty with which the young man\\'s lower lip presented itself to an upper tooth. He detested the useless play-acting and yearned for an end to it.  He said: \"We seem to be anticipated.\"  \\'Yes,\" said Channis, simply.  \"Just that? You have no contribution of greater pith to make. We come here and find that the governor expects us. Presumably we shall find from the governor that Tazenda itself expects us. Of what value then is our entire mission?\"  Channis looked up, without endeavoring to conceal the weary note in his voice: \"To expect us is one thing; to know who we are and what we came for, is another.\"  \"Do you expect to conceal these things from men of the Second Foundation?\"  \"Perhaps. Why not? Are you ready to throw your hand in? Suppose our ship was detected in space. Is it unusual for a realm to maintain frontier observation posts? Even if we were ordinary strangers, we would be of interest.\"  \"Sufficient interest for a governor to come to us rather than the reverse?\\'  Channis shrugged: \"We’ll have to meet that problem later. Let us see what this governor is like.\"  Pritcher bared his teeth in a bloodless kind of scowl. The situation was becoming ridiculous.  Channis proceeded with an artificial animation: \"At least we know one thing. Tazenda is the Second Foundation or a million shreds of evidence are unanimously pointing the wrong way.    How do you interpret the obvious terror in which these natives hold Tazenda? I see no signs of political domination. Their groups of Elders apparently meet freely and without interference of any sort. The taxation they speak of doesn\\'t seem at all extensive to me or efficiently carried through. The natives speak much of poverty but seem sturdy and well-fed. The houses are uncouth and their villages rude, but are obviously adequate for the purpose.  \"In fact, the world fascinates me. I have never seen a more forbidding one, yet I am convinced there is no suffering among the population and that their uncomplicated lives manage to contain a well-balanced happiness lacking in the sophisticated populations of the advanced centers.\"  \"Are you an admirer of peasant virtues, then?\"  \"The stars forbid.\" Channis seemed amused at the idea. \"I merely point out the significance of all this. Apparently, Tazenda is an efficient administrator - efficient in a sense far different from the efficiency of the old Empire or of the First Foundation, or even of our own Union. All these have brought mechanical efficiency to their subjects at the cost of more intangible values. Tazenda brings happiness and sufficiency. Don\\'t you see that the whole orientation of their domination is different? It is not physical, but psychological.\"  \"Really?\" Pritcher, allowed himself irony. \"And the terror with which the Elders spoke of the punishment of treason by these kind hearted psychologist administrators? How does that suit your thesis?\"  \"Were they the objects of the punishment? They speak of punishment only of others. It is as if knowledge of punishment has been so well implanted in them that punishment itself need never be used. The proper mental attitudes are so inserted into their minds that I am certain that not a Tazendian soldier exists on the planet. Don\\'t you see all this?\"  \"I’ll see perhaps,\" said Pritcher, coldly, \"when I see the governor. And what, by the way, if our mentalities are handled?\"  Channis replied with brutal contempt: \"You should be accustomed to that.\"  Pritcher whitened perceptibly, and, with an effort, turned away. They spoke to one another no more that day.  It was in the silent windlessness of the frigid night, as he listened to the soft, sleeping motions of the other, that Pritcher silently adjusted his wrist-transmitter to the ultrawave region for which Channis\\' was unadjustable and, with noiseless touches of his fingernail, contacted the ship.  The answer came in little periods of noiseless vibration that barely lifted themselves above the sensory threshold.'"
      ]
     },
     "execution_count": 16,
     "metadata": {},
     "output_type": "execute_result"
    }
   ],
   "source": [
    "with open(\"../data/the-foundation-test.txt\", \"r\", encoding=\"utf8\") as fp:\n",
    "    eval_text = fp.read()\n",
    "\n",
    "eval_text = eval_text.replace(\"\\n\", \" \")\n",
    "eval_text = eval_text.replace(\"\\r\", \" \")\n",
    "eval_text"
   ]
  },
  {
   "cell_type": "code",
   "execution_count": 17,
   "metadata": {},
   "outputs": [
    {
     "name": "stdout",
     "output_type": "stream",
     "text": [
      "Accuracy: 0.2556\n",
      "Random Accuracy: 0.0120\n"
     ]
    }
   ],
   "source": [
    "eval_text_as_int = [char_to_int[ch] for ch in eval_text]\n",
    "inputs, targets = seq2input_target(eval_text_as_int, window_length=30)\n",
    "\n",
    "output = run_ltsm(torch.tensor(inputs), lstm, 128)\n",
    "predictions = torch.argmax(output, dim=1).view(-1).to(\"cpu\").numpy()\n",
    "\n",
    "# To char\n",
    "predictions = np.array([int_to_char[i] for i in predictions])\n",
    "targets = np.array([int_to_char[i] for i in targets])\n",
    "\n",
    "acc = np.mean(predictions == np.array(targets))\n",
    "rand_acc = 1.0 / len(char_set)\n",
    "\n",
    "print(f\"Accuracy: {acc:.4f}\")\n",
    "print(f\"Random Accuracy: {rand_acc:.4f}\")"
   ]
  },
  {
   "cell_type": "markdown",
   "metadata": {},
   "source": [
    "# Submit the results\n",
    "\n",
    "Please **git commit & push** the following two files created in the following cell. \n",
    "\n",
    "1. \"~/assignments/lstm_test_predictions.txt\" \n",
    "\n",
    "2. \"~/assignments/lstm_loss_values.csv\"\n"
   ]
  },
  {
   "cell_type": "code",
   "execution_count": 19,
   "metadata": {},
   "outputs": [],
   "source": [
    "with open(\"./lstm_test_predictions.txt\", \"w\", encoding=\"utf8\") as f:\n",
    "    for char in predictions:\n",
    "        f.write(char)\n",
    "\n",
    "pd.DataFrame(loss_values).to_csv(\"./lstm_loss_values.csv\", index=False)"
   ]
  }
 ],
 "metadata": {
  "kernelspec": {
   "display_name": "applsoftcomp",
   "language": "python",
   "name": "python3"
  },
  "language_info": {
   "codemirror_mode": {
    "name": "ipython",
    "version": 3
   },
   "file_extension": ".py",
   "mimetype": "text/x-python",
   "name": "python",
   "nbconvert_exporter": "python",
   "pygments_lexer": "ipython3",
   "version": "3.10.13"
  }
 },
 "nbformat": 4,
 "nbformat_minor": 2
}
